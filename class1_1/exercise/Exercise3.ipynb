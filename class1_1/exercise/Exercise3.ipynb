{
 "metadata": {
  "name": "",
  "signature": "sha256:68df1038be6fa984e8fa87db9aa2fa3b80b0196b0e8ca61596f63da0942cd96d"
 },
 "nbformat": 3,
 "nbformat_minor": 0,
 "worksheets": [
  {
   "cells": [
    {
     "cell_type": "heading",
     "level": 1,
     "metadata": {},
     "source": [
      "The following code will print the prime numbers between 1 and 100. Modify the code so it prints every other prime number from 1 to 100"
     ]
    },
    {
     "cell_type": "code",
     "collapsed": false,
     "input": [
      "for num in range(1,101): # for-loop through the numbers\n",
      "    prime = True # boolean flag to check the number for being prime\n",
      "    for i in range(2,num): # for-loop to check for \"primeness\" by checking for divisors other than 1\n",
      "        if (num%i==0): # logical test for the number having a divisor other than 1 and itself\n",
      "            prime = False # if there's a divisor, the boolean value gets flipped to False\n",
      "    if prime: # if prime is still True after going through all numbers from 1 - 100, then it gets printed\n",
      "        print num"
     ],
     "language": "python",
     "metadata": {},
     "outputs": []
    },
    {
     "cell_type": "heading",
     "level": 1,
     "metadata": {},
     "source": [
      "Extra Credit: Can you write a procedure that runs faster than the one above?"
     ]
    },
    {
     "cell_type": "code",
     "collapsed": false,
     "input": [],
     "language": "python",
     "metadata": {},
     "outputs": []
    }
   ],
   "metadata": {}
  }
 ]
}